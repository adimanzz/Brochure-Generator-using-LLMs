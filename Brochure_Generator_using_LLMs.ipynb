{
 "cells": [
  {
   "cell_type": "markdown",
   "id": "e8ad77bd-7bc6-44bd-b06a-6136006d1a91",
   "metadata": {},
   "source": [
    "# Company Brochure Generator\n",
    "\n"
   ]
  },
  {
   "cell_type": "markdown",
   "id": "1c84290c-d7d8-4cf0-92a4-205d2c0aacc9",
   "metadata": {},
   "source": [
    "Creating a company brochure generator using multiple llm models to increase efficiency and reduce redundancy while maintaining quality"
   ]
  },
  {
   "cell_type": "code",
   "execution_count": 2,
   "id": "e2776752-09b5-44fa-a55d-7eb60eae1289",
   "metadata": {},
   "outputs": [],
   "source": [
    "# imports\n",
    "\n",
    "import os\n",
    "import requests\n",
    "import json\n",
    "from typing import List\n",
    "from dotenv import load_dotenv\n",
    "from bs4 import BeautifulSoup\n",
    "from IPython.display import Markdown, display, update_display\n",
    "from openai import OpenAI\n",
    "import anthropic\n",
    "import ollama\n"
   ]
  },
  {
   "cell_type": "code",
   "execution_count": 3,
   "id": "23744756-12ae-4807-a19e-dc96b110b80d",
   "metadata": {},
   "outputs": [],
   "source": [
    "import gradio as gr"
   ]
  },
  {
   "cell_type": "code",
   "execution_count": 4,
   "id": "35a7d0c3-997f-4d3d-85a3-3599d601b130",
   "metadata": {},
   "outputs": [
    {
     "name": "stdout",
     "output_type": "stream",
     "text": [
      "OpenAI API Key exists and begins sk-proj-\n",
      "Anthropic API Key exists and begins sk-ant-\n"
     ]
    }
   ],
   "source": [
    "# Initialize and constants\n",
    "\n",
    "load_dotenv(override=True)\n",
    "openai_api_key = os.getenv('OPENAI_API_KEY')\n",
    "anthropic_api_key = os.getenv('ANTHROPIC_API_KEY')\n",
    "\n",
    "if openai_api_key:\n",
    "    print(f\"OpenAI API Key exists and begins {openai_api_key[:8]}\")\n",
    "else:\n",
    "    print(\"OpenAI API Key not set\")\n",
    "    \n",
    "if anthropic_api_key:\n",
    "    print(f\"Anthropic API Key exists and begins {anthropic_api_key[:7]}\")\n",
    "else:\n",
    "    print(\"Anthropic API Key not set\")"
   ]
  },
  {
   "cell_type": "code",
   "execution_count": 18,
   "id": "19a9d527-77dc-4ec7-a3ad-1b93f18ded7e",
   "metadata": {},
   "outputs": [],
   "source": [
    "# Initialize an OpenAI object and define the Model you want to use\n",
    "openai = OpenAI()\n",
    "MODEL = \"gpt-4o-mini\""
   ]
  },
  {
   "cell_type": "code",
   "execution_count": 31,
   "id": "0daff31b-a868-49a4-b57f-a6bb68558465",
   "metadata": {},
   "outputs": [],
   "source": [
    "#Class to represent a webpage. All the relevant information is scraped from the URL provided\n",
    "\n",
    "headers = {\n",
    " \"User-Agent\": \"Mozilla/5.0 (Windows NT 10.0; Win64; x64) AppleWebKit/537.36 (KHTML, like Gecko) Chrome/117.0.0.0 Safari/537.36\"\n",
    "}\n",
    "\n",
    "class Website:\n",
    "    \"\"\"\n",
    "    A utility class to represent a Website that we have scraped, now with links\n",
    "    \"\"\"\n",
    "\n",
    "    def __init__(self, url):\n",
    "        self.url = url\n",
    "        response = requests.get(url, headers=headers)\n",
    "        self.body = response.content\n",
    "        soup = BeautifulSoup(self.body, 'html.parser')\n",
    "        self.title = soup.title.string if soup.title else \"No title found\"\n",
    "        if soup.body:\n",
    "            for irrelevant in soup.body([\"script\", \"style\", \"img\", \"input\"]):\n",
    "                irrelevant.decompose()\n",
    "            self.text = soup.body.get_text(separator=\"\\n\", strip=True)\n",
    "        else:\n",
    "            self.text = \"\"\n",
    "        links = [link.get('href') for link in soup.find_all('a')]\n",
    "        self.links = [link for link in links if link]\n",
    "\n",
    "    def get_contents(self):\n",
    "        return f\"Webpage Title:\\n{self.title}\\nWebpage Contents:\\n{self.text}\\n\\n\""
   ]
  },
  {
   "cell_type": "markdown",
   "id": "72617d69-e91b-42cb-9f44-4fad3cb8006c",
   "metadata": {},
   "source": [
    "#### Lets check the links that were fetched from the Playstation website"
   ]
  },
  {
   "cell_type": "code",
   "execution_count": 10,
   "id": "466f6c18-84a5-46fc-9f8f-7abea1b522a7",
   "metadata": {},
   "outputs": [
    {
     "data": {
      "text/plain": [
       "['https://www.playstation.com/en-ca',\n",
       " 'https://www.playstation.com/en-ca/ps5/games/?smcid=other%3Aen-ca%3Ablank%3Aprimary%20nav%3Amsg-games%3Aps5',\n",
       " 'https://www.playstation.com/en-ca/ps4/ps4-games/?smcid=other%3Aen-ca%3Ablank%3Aprimary%20nav%3Amsg-games%3Aps4',\n",
       " 'https://www.playstation.com/en-ca/ps-vr2/games/?smcid=other%3Aen-ca%3Ablank%3Aprimary%20nav%3Amsg-games%3Aps-vr2',\n",
       " 'https://www.playstation.com/en-ca/games/pc-games/?smcid=other%3Aen-ca%3Ablank%3Aprimary%20nav%3Amsg-games%3Apc',\n",
       " 'https://www.playstation.com/en-ca/ps-plus/games/?smcid=other%3Aen-ca%3Ablank%3Aprimary%20nav%3Amsg-games%3Aps-plus',\n",
       " 'https://www.playstation.com/en-ca/ps5/?smcid=other%3Aen-ca%3Ablank%3Aprimary%20nav%3Amsg-ps5%3Aconsole',\n",
       " 'https://www.playstation.com/en-ca/ps5/games/?smcid=other%3Aen-ca%3Ablank%3Aprimary%20nav%3Amsg-ps5%3Agames',\n",
       " 'https://www.playstation.com/en-ca/accessories/#controllers/?smcid=other%3Aen-ca%3Ablank%3Aprimary%20nav%3Amsg-ps5%3Acontrollers',\n",
       " 'https://www.playstation.com/en-ca/ps-vr2/?smcid=other%3Aen-ca%3Ablank%3Aprimary%20nav%3Amsg-ps5%3Aps-vr2',\n",
       " 'https://www.playstation.com/en-ca/accessories/#headsets/?smcid=other%3Aen-ca%3Ablank%3Aprimary%20nav%3Amsg-ps5%3Aaudio',\n",
       " 'https://www.playstation.com/en-ca/ps4/?smcid=other%3Aen-ca%3Ablank%3Aprimary%20nav%3Amsg-ps4%3Aconsole',\n",
       " 'https://www.playstation.com/en-ca/ps4/ps4-games/?smcid=other%3Aen-ca%3Ablank%3Aprimary%20nav%3Amsg-ps4%3Agames',\n",
       " 'https://www.playstation.com/en-ca/accessories/dualshock-4-wireless-controller/?smcid=other%3Aen-ca%3Ablank%3Aprimary%20nav%3Amsg-ps4%3Acontrollers',\n",
       " 'https://www.playstation.com/en-ca/accessories/pulse-3d-wireless-headset/?smcid=other%3Aen-ca%3Ablank%3Aprimary%20nav%3Amsg-ps4%3Aheadsets',\n",
       " 'https://www.playstation.com/en-ca/ps-plus/?smcid=other%3Aen-ca%3Ablank%3Aprimary%20nav%3Amsg-services%3Aps-plus',\n",
       " 'https://www.playstation.com/en-ca/playstation-stars/?smcid=other%3Aen-ca%3Ablank%3Aprimary%20nav%3Amsg-services%3Aps-stars',\n",
       " 'https://www.playstation.com/en-ca/accessories/#controllers/?smcid=other%3Aen-ca%3Ablank%3Aprimary%20nav%3Amsg-accessories%3Aps5-controllers',\n",
       " 'https://www.playstation.com/en-ca/accessories/playstation-portal-remote-player/?smcid=other%3Aen-ca%3Ablank%3Aprimary%20nav%3Amsg-accessories%3Aplaystation-portal-remote-player',\n",
       " 'https://www.playstation.com/en-ca/ps-vr2/?smcid=other%3Aen-ca%3Ablank%3Aprimary%20nav%3Amsg-accessories%3Aps-vr2',\n",
       " 'https://www.playstation.com/en-ca/accessories/#headsets/?smcid=other%3Aen-ca%3Ablank%3Aprimary%20nav%3Amsg-accessories%3Aaudio',\n",
       " 'https://www.playstation.com/en-ca/accessories/?smcid=other%3Aen-ca%3Ablank%3Aprimary%20nav%3Amsg-accessories%3Aall-accessories',\n",
       " 'https://blog.us.playstation.com/?smcid=other%3Aen-ca%3Ablank%3Aprimary%20nav%3Amsg-news%3Aps-blog',\n",
       " 'https://www.playstation.com/en-ca/editorial/this-month-on-playstation/?smcid=other%3Aen-ca%3Ablank%3Aprimary%20nav%3Amsg-news%3Athis-month-on-playstation',\n",
       " 'https://store.playstation.com/en-us?smcid=other%3Aen-ca%3Ablank%3Aprimary%20nav%3Amsg-store%3Abuy-games',\n",
       " 'https://www.playstation.com/en-ca/ps-plus/?smcid=other%3Aen-ca%3Ablank%3Aprimary%20nav%3Amsg-store%3Asubscribe-to-ps-plus',\n",
       " 'https://gear.playstation.com?smcid=other%3Aen-ca%3Ablank%3Aprimary%20nav%3Amsg-store%3Abuy-merchandise',\n",
       " 'https://www.playstation.com/en-ca/support/?smcid=other%3Aen-ca%3Ablank%3Aprimary%20nav%3Amsg-support%3Asupport',\n",
       " 'https://status.playstation.com?smcid=other%3Aen-ca%3Ablank%3Aprimary%20nav%3Amsg-support%3Apsn-status',\n",
       " '/en-ca/pages/latest',\n",
       " '/en-ca/pages/latest',\n",
       " '/en-ca/pages/collections',\n",
       " '/en-ca/pages/deals',\n",
       " '/en-ca/pages/subscriptions',\n",
       " '/en-ca/pages/browse',\n",
       " '/en-ca/category/45b1ecdc-cb04-4710-aa2d-23a11245ea48/1',\n",
       " '/en-ca/concept/10002684',\n",
       " '/en-ca/concept/10002456',\n",
       " '/en-ca/product/UP1001-PPSA22120_00-NBA2K25DELUXE000',\n",
       " '/en-ca/concept/10007722',\n",
       " '/en-ca/concept/10000657',\n",
       " '/en-ca/concept/10003386',\n",
       " '/en-ca/concept/10005449',\n",
       " '/en-ca/concept/228748',\n",
       " '/en-ca/concept/10009762',\n",
       " '/en-ca/concept/10005176',\n",
       " '/en-ca/concept/10010684',\n",
       " '/en-ca/concept/10010481',\n",
       " '/en-ca/concept/10001130',\n",
       " '/en-ca/concept/203897',\n",
       " '/en-ca/concept/10009268',\n",
       " '/en-ca/concept/10008972',\n",
       " '/en-ca/category/e1699f77-77e1-43ca-a296-26d08abacb0f/1',\n",
       " '/en-ca/category/e1699f77-77e1-43ca-a296-26d08abacb0f/1',\n",
       " '/en-ca/concept/10005449',\n",
       " '/en-ca/concept/10005176',\n",
       " '/en-ca/concept/10008972',\n",
       " '/en-ca/concept/10004292',\n",
       " '/en-ca/concept/10009260',\n",
       " '/en-ca/concept/10003168',\n",
       " '/en-ca/concept/10009964',\n",
       " '/en-ca/concept/10011704',\n",
       " '/en-ca/concept/10009660',\n",
       " '/en-ca/concept/10009101',\n",
       " '/en-ca/concept/10004596',\n",
       " '/en-ca/category/e1699f77-77e1-43ca-a296-26d08abacb0f/1',\n",
       " '/en-ca/category/3bf499d7-7acf-4931-97dd-2667494ee2c9/1',\n",
       " '/en-ca/category/3bf499d7-7acf-4931-97dd-2667494ee2c9/1',\n",
       " '/en-ca/product/UP9000-PPSA23479_00-MLBTHESHOW25DGDL',\n",
       " '/en-ca/product/UP0001-PPSA20396_00-GAME000000000000',\n",
       " '/en-ca/product/UP0001-PPSA20396_00-EDITIONDELUXE000',\n",
       " '/en-ca/product/UP1001-PPSA22695_00-WWE2K25000000000',\n",
       " '/en-ca/product/UP6312-PPSA22327_00-0810100104879906',\n",
       " '/en-ca/product/UP9000-PPSA23479_00-MLBTHESHOW25SHIP',\n",
       " '/en-ca/product/UP6312-PPSA22327_00-0629872585919347',\n",
       " '/en-ca/product/UP0002-PPSA18010_00-TH34RDLXBUNDL001',\n",
       " '/en-ca/product/UP0002-PPSA18010_00-TH34RSTNDBUNDL01',\n",
       " '/en-ca/product/UP6312-PPSA22327_00-0547256477986893',\n",
       " '/en-ca/product/UP0700-PPSA03639_00-BROS0ULTEDITION0',\n",
       " '/en-ca/category/3bf499d7-7acf-4931-97dd-2667494ee2c9/1',\n",
       " '/en-ca/category/95601a70-7564-4771-b305-0283fe3593e4/1',\n",
       " '/en-ca/category/95601a70-7564-4771-b305-0283fe3593e4/1',\n",
       " '/en-ca/product/UP2011-PPSA25206_00-0159999384459288',\n",
       " '/en-ca/product/UP8777-CUSA51875_00-MLUGAMEDEMO00000',\n",
       " '/en-ca/product/UP8777-PPSA26808_00-MLUGAMEDEMO00000',\n",
       " '/en-ca/product/EP5974-CUSA53764_00-0933939491714712',\n",
       " '/en-ca/product/EP4295-PPSA26670_00-LBADEMOPS50000EU',\n",
       " '/en-ca/product/HP8406-CUSA53262_00-0867372988627155',\n",
       " '/en-ca/product/HP8406-PPSA28207_00-0667112104633437',\n",
       " '/en-ca/product/EP4459-PPSA26750_00-SLASHERDEMOPS500',\n",
       " '/en-ca/product/UP6664-CUSA49589_00-0852813042479686',\n",
       " '/en-ca/product/UP6664-PPSA24023_00-0862607525732982',\n",
       " '/en-ca/product/UP6664-CUSA49207_00-0953953120940261',\n",
       " '/en-ca/category/95601a70-7564-4771-b305-0283fe3593e4/1',\n",
       " 'https://www.playstation.com/ps-plus/',\n",
       " '/en-ca/category/d0446d4b-dc9a-4f1e-86ec-651f099c9b29/1',\n",
       " '/en-ca/category/1d443305-2dcf-4543-8f7e-8c6ec409ecbf/1',\n",
       " '/en-ca/category/3f772501-f6f8-49b7-abac-874a88ca4897/1',\n",
       " '/en-ca/category/51c9aa7a-c0c7-4b68-90b4-328ad11bf42e/1',\n",
       " '/en-ca/category/4dfd67ab-4ed7-40b0-a937-a549aece13d0/1',\n",
       " '/en-ca/category/7b0ad209-dadd-4575-9e51-09ccc803deeb/1',\n",
       " 'https://www.playstation.com/ps-plus/',\n",
       " '/en-ca/category/30e3fe35-8f2d-4496-95bc-844f56952e3c/1',\n",
       " 'https://www.playstation.com/en-ca/support/',\n",
       " 'https://www.playstation.com/en-ca/legal/privacy-policy/',\n",
       " 'https://www.playstation.com/en-ca/legal/website-terms-of-use/',\n",
       " 'https://www.playstation.com/en-ca/site-map/',\n",
       " 'https://www.playstation.com/en-ca/corporate/playstation-studios/',\n",
       " 'https://www.playstation.com/en-ca/legal/',\n",
       " 'https://www.playstation.com/en-ca/corporate/about-us/',\n",
       " 'https://www.playstation.com/en-ca/legal/psn-terms-of-service/',\n",
       " 'https://www.playstation.com/en-ca/legal/playstation-store-cancellation-policy/',\n",
       " 'https://www.playstation.com/en-ca/legal/health-warning/',\n",
       " 'https://www.playstation.com/en-ca/support/account/age-ratings-playstation/',\n",
       " 'https://www.facebook.com/PlayStationCanada',\n",
       " 'https://twitter.com/PlayStationca',\n",
       " 'https://www.youtube.com/channel/UCds7m6MSkHspbrIexUXX9QQ',\n",
       " 'https://www.instagram.com/playstationca',\n",
       " 'https://play.google.com/store/apps/details?id=com.scee.psxandroid&utm_source=pdcfooter',\n",
       " 'https://apps.apple.com/app/apple-store/id410896080?pt=104940801&ct=pdcfooter&mt=8',\n",
       " 'https://www.playstation.com/legal/copyright-and-trademark-notice/']"
      ]
     },
     "execution_count": 10,
     "metadata": {},
     "output_type": "execute_result"
    }
   ],
   "source": [
    "website = Website(\"https://store.playstation.com/en-ca/\")\n",
    "website.links"
   ]
  },
  {
   "cell_type": "markdown",
   "id": "2815b30a-3dc8-40d5-8a63-cdc5d663ff49",
   "metadata": {},
   "source": [
    "#### As we can see there are a significant number of links fetched most of which are unnecesssary to build a brochure"
   ]
  },
  {
   "cell_type": "markdown",
   "id": "4b5c464e-d85a-49b0-8037-2385da592bfc",
   "metadata": {},
   "source": [
    "## Using LLM to trim down the links to just the prudent ones"
   ]
  },
  {
   "cell_type": "code",
   "execution_count": 22,
   "id": "da086577-d9df-48b6-9a88-00840eea5fc1",
   "metadata": {},
   "outputs": [],
   "source": [
    "# Define the system prompt for the LLM with an example\n",
    "\n",
    "link_system_prompt = \"You are provided with a list of links found on a webpage. \\\n",
    "You are able to decide which of the links would be most relevant to include in a brochure about the company, \\\n",
    "such as links to an About page, or a Company page, or Careers/Jobs pages.\\n\"\n",
    "link_system_prompt += \"You should respond in JSON as in this example:\"\n",
    "link_system_prompt += \"\"\"\n",
    "{\n",
    "    \"links\": [\n",
    "        {\"type\": \"about page\", \"url\": \"https://full.url/goes/here/about\"},\n",
    "        {\"type\": \"careers page\": \"url\": \"https://another.full.url/careers\"}\n",
    "    ]\n",
    "}\n",
    "\"\"\""
   ]
  },
  {
   "cell_type": "code",
   "execution_count": 13,
   "id": "2375fb2c-ac01-4d91-8bb5-903821b12cea",
   "metadata": {},
   "outputs": [],
   "source": [
    "def get_links_user_prompt(website):\n",
    "    user_prompt = f\"Here is the list of links on the website of {website.url} - \"\n",
    "    user_prompt += \"please decide which of these are relevant web links for a brochure about the company, respond with the full https URL in JSON format. \\\n",
    "Do not include Terms of Service, Privacy, email links.\\n\"\n",
    "    user_prompt += \"Links (some might be relative links):\\n\"\n",
    "    user_prompt += \"\\n\".join(website.links)\n",
    "    return user_prompt"
   ]
  },
  {
   "cell_type": "code",
   "execution_count": null,
   "id": "a713b3f2-0448-42b4-8270-b918fd759849",
   "metadata": {},
   "outputs": [],
   "source": []
  },
  {
   "cell_type": "code",
   "execution_count": 14,
   "id": "6bf6092f-ecb3-4b37-9a74-994ba5aa67ae",
   "metadata": {},
   "outputs": [],
   "source": [
    "def get_links(url):\n",
    "    website = Website(url)\n",
    "    response = openai.chat.completions.create(\n",
    "        model=MODEL,\n",
    "        messages=[\n",
    "            {\"role\": \"system\", \"content\": link_system_prompt},\n",
    "            {\"role\": \"user\", \"content\": get_links_user_prompt(website)}\n",
    "      ],\n",
    "        response_format={\"type\": \"json_object\"}\n",
    "    )\n",
    "    result = response.choices[0].message.content\n",
    "    return json.loads(result)"
   ]
  },
  {
   "cell_type": "markdown",
   "id": "9a01307b-5a29-4164-892c-a097c63e85e5",
   "metadata": {},
   "source": [
    "### Here you have a list of just the necessary links that the model felt is necessary to build a brochure"
   ]
  },
  {
   "cell_type": "code",
   "execution_count": 19,
   "id": "b03a6909-8e16-4e64-ac83-7fa721ce8080",
   "metadata": {},
   "outputs": [
    {
     "data": {
      "text/plain": [
       "{'links': [{'type': 'about page',\n",
       "   'url': 'https://www.playstation.com/en-ca/corporate/about-us/'},\n",
       "  {'type': 'company page',\n",
       "   'url': 'https://www.playstation.com/en-ca/corporate/playstation-studios/'},\n",
       "  {'type': 'support page',\n",
       "   'url': 'https://www.playstation.com/en-ca/support/'}]}"
      ]
     },
     "execution_count": 19,
     "metadata": {},
     "output_type": "execute_result"
    }
   ],
   "source": [
    "get_links(\"https://store.playstation.com/en-ca/\")"
   ]
  },
  {
   "cell_type": "code",
   "execution_count": 23,
   "id": "75fa7893-5b0e-4d51-91ed-0f5050215e8a",
   "metadata": {},
   "outputs": [],
   "source": [
    "# Define a function that builds a user prompt based on the links found on the landing page\n",
    "\n",
    "def get_brochure_user_prompt(company_name, url):\n",
    "    user_prompt = f\"You are looking at a company called: {company_name}\\n\"\n",
    "    user_prompt += f\"Here are the contents of its landing page and other relevant pages; use this information to build a short brochure of the company in markdown.\\n\"\n",
    "    user_prompt += get_all_details(url)\n",
    "    user_prompt = user_prompt[:5_000] # Truncate if more than 5,000 characters\n",
    "    return user_prompt"
   ]
  },
  {
   "cell_type": "code",
   "execution_count": 24,
   "id": "0397c74d-a6bb-46b0-a583-7aa39ed0ded2",
   "metadata": {},
   "outputs": [],
   "source": [
    "# Build a function that iterates through these links and scrapes date\n",
    "\n",
    "def get_all_details(url):\n",
    "    result = \"Landing page:\\n\"\n",
    "    result += Website(url).get_contents()\n",
    "    links = get_links(url)\n",
    "    print(\"Found links:\", links)\n",
    "    for link in links[\"links\"]:\n",
    "        result += f\"\\n\\n{link['type']}\\n\"\n",
    "        result += Website(link[\"url\"]).get_contents()\n",
    "    return result"
   ]
  },
  {
   "cell_type": "code",
   "execution_count": 27,
   "id": "0d3f8b8e-5610-4076-85d5-8c86d953bc15",
   "metadata": {},
   "outputs": [],
   "source": [
    "# Define the main function that takes in the URL, Tone and Model and generates the Brochure\n",
    "\n",
    "def create_brochure(company_name, url, tone, model):\n",
    "    result = \"\"\n",
    "    \n",
    "    system_brochure_prompt = f\"You are an assistant that analyzes the contents of several relevant pages from a company website \\\n",
    "    and creates a short brochure with a {tone} tone about the company for prospective customers, investors and recruits. Respond in markdown.\\\n",
    "    Include details of company culture, customers and careers/jobs if you have the information.\"\n",
    "\n",
    "    MESSAGES = [\n",
    "            {\"role\": \"system\", \"content\": system_brochure_prompt},\n",
    "            {\"role\": \"user\", \"content\": get_brochure_user_prompt(company_name, url)}\n",
    "          ]\n",
    "    if model == \"GPT\":\n",
    "        MODEL = \"gpt-4o-mini\"\n",
    "        response = openai.chat.completions.create(\n",
    "        model=MODEL,\n",
    "        messages=MESSAGES\n",
    "    )\n",
    "        result = response.choices[0].message.content\n",
    "        \n",
    "    elif model == \"Llama\":\n",
    "        MODEL = \"llama3.2\"\n",
    "        response = ollama.chat(\n",
    "            model=MODEL,\n",
    "            messages=MESSAGES\n",
    "        )\n",
    "        result = response[\"message\"][\"content\"]\n",
    "        \n",
    "    \n",
    "    display(Markdown(result))"
   ]
  },
  {
   "cell_type": "code",
   "execution_count": 30,
   "id": "f08803df-1bff-4529-bf2e-4812dfaaa852",
   "metadata": {},
   "outputs": [
    {
     "name": "stdout",
     "output_type": "stream",
     "text": [
      "* Running on local URL:  http://127.0.0.1:7863\n",
      "\n",
      "To create a public link, set `share=True` in `launch()`.\n"
     ]
    },
    {
     "data": {
      "text/html": [
       "<div><iframe src=\"http://127.0.0.1:7863/\" width=\"100%\" height=\"500\" allow=\"autoplay; camera; microphone; clipboard-read; clipboard-write;\" frameborder=\"0\" allowfullscreen></iframe></div>"
      ],
      "text/plain": [
       "<IPython.core.display.HTML object>"
      ]
     },
     "metadata": {},
     "output_type": "display_data"
    },
    {
     "data": {
      "text/plain": []
     },
     "execution_count": 30,
     "metadata": {},
     "output_type": "execute_result"
    },
    {
     "name": "stdout",
     "output_type": "stream",
     "text": [
      "Found links: {'links': [{'type': 'company page', 'url': 'https://www.playstation.com/en-ca/corporate/about-us/'}, {'type': 'careers page', 'url': 'https://www.playstation.com/en-ca/corporate/playstation-studios/'}, {'type': 'support page', 'url': 'https://www.playstation.com/en-ca/support/'}]}\n"
     ]
    },
    {
     "data": {
      "text/markdown": [
       "**PlayStation: Empowering the Power of Play**\n",
       "\n",
       "[Image: PlayStation logo]\n",
       "\n",
       "At PlayStation, we're passionate about delivering innovative and thrilling experiences to gamers around the world. Our mission is to push the boundaries of entertainment and innovation, just as we did when we first launched the original PlayStation in Japan in 1994.\n",
       "\n",
       "**Our Values**\n",
       "\n",
       "We believe that play is borderless, and that's why we're committed to creating a gaming experience without barriers that fits the needs of players of all abilities. Our values are:\n",
       "\n",
       "* **Accessibility**: We strive to create inclusive communities for our players and staff.\n",
       "* **Environmental Responsibility**: We're working to reduce our environmental impact and encourage our players to do the same.\n",
       "* **Online Safety**: We prioritize making gaming welcoming, secure, and inclusive for everyone.\n",
       "* **Diversity and Inclusion**: We value diversity and strive to create a work environment where all employees can be themselves.\n",
       "\n",
       "**Our Products and Services**\n",
       "\n",
       "We offer a range of flagship products and services that enhance your gaming experience:\n",
       "\n",
       "* **PlayStation 5**: Our latest console, featuring an ultra-fast SSD, Tempest 3D Audio technology, and a generation of games that harness its lightning speed and graphical capabilities.\n",
       "* **DualSense Wireless Controller**: Enhance your play with innovative haptic feedback and trigger effects in compatible games.\n",
       "* **PlayStation VR2**: The virtual reality companion to PS5, bringing ultra-immersive 4K HDR gameplay and amazing new sensations from PlayStation VR2 Sense Technology.\n",
       "\n",
       "**Our Game Development Studios**\n",
       "\n",
       "We're proud of our family of game development studios creating incredible gaming worlds for PlayStation consoles and PC:\n",
       "\n",
       "* **Horizon**: A far-future version of Earth where tribal cultures exist in the shadow of colossal, ferocious machines.\n",
       "* **God of War**: An epic saga of vengeance and protection, with a demigod protagonist and his son.\n",
       "* **The Last of Us**: Emotional storytelling, relatable characters, and intense action gameplay in a world ravaged by a deadly infection.\n",
       "\n",
       "**Join Our Community**\n",
       "\n",
       "If you're passionate about gaming and innovation, join our team! We offer exciting career opportunities in game development, marketing, and more. Visit [sonyinteractive.com](http://sonyinteractive.com) to learn more about our company culture and job openings.\n",
       "\n",
       "**Get Ready to Play**\n",
       "\n",
       "Experience the power of play with PlayStation. Explore our latest products and services, and discover new gaming worlds that will take your breath away."
      ],
      "text/plain": [
       "<IPython.core.display.Markdown object>"
      ]
     },
     "metadata": {},
     "output_type": "display_data"
    }
   ],
   "source": [
    "# Create an interface for Gradio and define the controls such as the text fields\n",
    "\n",
    "view = gr.Interface(\n",
    "    fn=create_brochure,\n",
    "    inputs=[\n",
    "        gr.Textbox(label=\"Enter Website Name\"),\n",
    "        gr.Textbox(label=\"Enter Website URL (including http:/https)\"),\n",
    "        gr.Textbox(label=\"Enter Tone (eg. Humorous, Serious)\"),\n",
    "        gr.Dropdown([\"GPT\", \"Llama\"], label=\"Select AI Model\")\n",
    "    ],\n",
    "    outputs=[\n",
    "        gr.Markdown(label=\"Brochure:\")\n",
    "        \n",
    "    ],\n",
    "    flagging_mode=\"never\"\n",
    ")\n",
    "\n",
    "view.launch()"
   ]
  },
  {
   "cell_type": "code",
   "execution_count": null,
   "id": "bcbdc65b-6253-47eb-a597-e5195d06d592",
   "metadata": {},
   "outputs": [],
   "source": []
  }
 ],
 "metadata": {
  "kernelspec": {
   "display_name": "Python 3 (ipykernel)",
   "language": "python",
   "name": "python3"
  },
  "language_info": {
   "codemirror_mode": {
    "name": "ipython",
    "version": 3
   },
   "file_extension": ".py",
   "mimetype": "text/x-python",
   "name": "python",
   "nbconvert_exporter": "python",
   "pygments_lexer": "ipython3",
   "version": "3.11.11"
  }
 },
 "nbformat": 4,
 "nbformat_minor": 5
}
